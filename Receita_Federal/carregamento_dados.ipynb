{
 "cells": [
  {
   "cell_type": "markdown",
   "metadata": {},
   "source": [
    "https://arquivos.receitafederal.gov.br/dados/cnpj/dados_abertos_cnpj/2025-03/"
   ]
  },
  {
   "cell_type": "markdown",
   "metadata": {},
   "source": [
    "## Criando a Session"
   ]
  },
  {
   "cell_type": "code",
   "execution_count": 2,
   "metadata": {},
   "outputs": [
    {
     "data": {
      "text/html": [
       "\n",
       "            <div>\n",
       "                <p><b>SparkSession - in-memory</b></p>\n",
       "                \n",
       "        <div>\n",
       "            <p><b>SparkContext</b></p>\n",
       "\n",
       "            <p><a href=\"http://guilhermeguim:4042\">Spark UI</a></p>\n",
       "\n",
       "            <dl>\n",
       "              <dt>Version</dt>\n",
       "                <dd><code>v3.5.5</code></dd>\n",
       "              <dt>Master</dt>\n",
       "                <dd><code>local[*]</code></dd>\n",
       "              <dt>AppName</dt>\n",
       "                <dd><code>pyspark-shell</code></dd>\n",
       "            </dl>\n",
       "        </div>\n",
       "        \n",
       "            </div>\n",
       "        "
      ],
      "text/plain": [
       "<pyspark.sql.session.SparkSession at 0x194583e3010>"
      ]
     },
     "execution_count": 2,
     "metadata": {},
     "output_type": "execute_result"
    }
   ],
   "source": [
    "import findspark\n",
    "findspark.init()\n",
    "\n",
    "# Criando uma Session\n",
    "\n",
    "\n",
    "\n",
    "\n",
    "from pyspark.sql import SparkSession\n",
    "spark = SparkSession.builder.master('local[*]').getOrCreate()\n",
    "spark"
   ]
  },
  {
   "cell_type": "code",
   "execution_count": 3,
   "metadata": {},
   "outputs": [],
   "source": [
    "\n",
    "# import glob\n",
    "# from functools import reduce\n",
    "\n",
    "# path = \"./empresas/*.csv\"\n",
    "\n",
    "# arquivos = glob.glob(path)\n",
    "\n",
    "# # Ler cada arquivo CSV em um DataFrame e armazenar na lista dfs\n",
    "# dfs = [spark.read.csv(file, sep=';', inferSchema=True) for file in arquivos]\n",
    "\n",
    "# # Unir todos os DataFrames em um único DataFrame\n",
    "# empresas = reduce(lambda df1, df2: df1.union(df2), dfs)\n",
    "\n",
    "# print(f'Total de linhas lidas: ', empresas.count())"
   ]
  },
  {
   "cell_type": "markdown",
   "metadata": {},
   "source": [
    "## Importando e renomeando os dados"
   ]
  },
  {
   "cell_type": "code",
   "execution_count": 4,
   "metadata": {},
   "outputs": [],
   "source": [
    "path_empresas = \"./Empresas0/K3241.K03200Y0.D50307.EMPRECSV\"\n",
    "empresas = spark.read.csv(path_empresas, sep=';', inferSchema=True) #inferSchema tenta buscar o tipo dos dados"
   ]
  },
  {
   "cell_type": "code",
   "execution_count": 5,
   "metadata": {},
   "outputs": [],
   "source": [
    "empresasColNames = ['cnpj_basico', 'razao_social_nome_empresarial', 'natureza_juridica', 'qualificacao_do_responsavel', 'capital_social_da_empresa', 'porte_da_empresa', 'ente_federativo_responsavel']\n",
    "\n",
    "for index, colName in enumerate(empresasColNames):\n",
    "    empresas = empresas.withColumnRenamed(f\"_c{index}\", colName)"
   ]
  },
  {
   "cell_type": "code",
   "execution_count": 6,
   "metadata": {},
   "outputs": [],
   "source": [
    "path_estabelecimentos = \"./Estabelecimentos0/K3241.K03200Y0.D50307.ESTABELE\"\n",
    "estabelecimentos = spark.read.csv(path_estabelecimentos, sep=';', inferSchema=True) #inferSchema tenta buscar o tipo dos dados"
   ]
  },
  {
   "cell_type": "code",
   "execution_count": 7,
   "metadata": {},
   "outputs": [],
   "source": [
    "estabsColNames = ['cnpj_basico', 'cnpj_ordem', 'cnpj_dv', 'identificador_matriz_filial', 'nome_fantasia', 'situacao_cadastral', 'data_situacao_cadastral', 'motivo_situacao_cadastral', 'nome_da_cidade_no_exterior', 'pais', 'data_de_inicio_atividade', 'cnae_fiscal_principal', 'cnae_fiscal_secundaria', 'tipo_de_logradouro', 'logradouro', 'numero', 'complemento', 'bairro', 'cep', 'uf', 'municipio', 'ddd_1', 'telefone_1', 'ddd_2', 'telefone_2', 'ddd_do_fax', 'fax', 'correio_eletronico', 'situacao_especial', 'data_da_situacao_especial']\n",
    "\n",
    "\n",
    "for index, colName in enumerate(estabsColNames):\n",
    "    estabelecimentos = estabelecimentos.withColumnRenamed(f\"_c{index}\", colName)"
   ]
  },
  {
   "cell_type": "code",
   "execution_count": 8,
   "metadata": {},
   "outputs": [],
   "source": [
    "path_socios = \"./Socios0/K3241.K03200Y0.D50307.SOCIOCSV\"\n",
    "socios = spark.read.csv(path_socios, sep=';', inferSchema=True) #inferSchema tenta buscar o tipo dos dados"
   ]
  },
  {
   "cell_type": "code",
   "execution_count": 9,
   "metadata": {},
   "outputs": [],
   "source": [
    "sociosColNames = ['cnpj_basico', 'identificador_de_socio', 'nome_do_socio_ou_razao_social', 'cnpj_ou_cpf_do_socio', 'qualificacao_do_socio', 'data_de_entrada_sociedade', 'pais', 'representante_legal', 'nome_do_representante', 'qualificacao_do_representante_legal', 'faixa_etaria']\n",
    "\n",
    "for index, colName in enumerate(sociosColNames):\n",
    "    socios = socios.withColumnRenamed(f\"_c{index}\", colName)"
   ]
  },
  {
   "cell_type": "markdown",
   "metadata": {},
   "source": [
    "## Visualizando as informações"
   ]
  },
  {
   "cell_type": "code",
   "execution_count": 10,
   "metadata": {},
   "outputs": [
    {
     "data": {
      "text/plain": [
       "21632212"
      ]
     },
     "execution_count": 10,
     "metadata": {},
     "output_type": "execute_result"
    }
   ],
   "source": [
    "empresas.count()"
   ]
  },
  {
   "cell_type": "code",
   "execution_count": 11,
   "metadata": {},
   "outputs": [
    {
     "data": {
      "text/plain": [
       "22387657"
      ]
     },
     "execution_count": 11,
     "metadata": {},
     "output_type": "execute_result"
    }
   ],
   "source": [
    "estabelecimentos.count()"
   ]
  },
  {
   "cell_type": "code",
   "execution_count": 12,
   "metadata": {},
   "outputs": [
    {
     "data": {
      "text/plain": [
       "7377166"
      ]
     },
     "execution_count": 12,
     "metadata": {},
     "output_type": "execute_result"
    }
   ],
   "source": [
    "socios.count()"
   ]
  },
  {
   "cell_type": "code",
   "execution_count": 13,
   "metadata": {},
   "outputs": [
    {
     "data": {
      "text/html": [
       "<div>\n",
       "<style scoped>\n",
       "    .dataframe tbody tr th:only-of-type {\n",
       "        vertical-align: middle;\n",
       "    }\n",
       "\n",
       "    .dataframe tbody tr th {\n",
       "        vertical-align: top;\n",
       "    }\n",
       "\n",
       "    .dataframe thead th {\n",
       "        text-align: right;\n",
       "    }\n",
       "</style>\n",
       "<table border=\"1\" class=\"dataframe\">\n",
       "  <thead>\n",
       "    <tr style=\"text-align: right;\">\n",
       "      <th></th>\n",
       "      <th>cnpj_basico</th>\n",
       "      <th>razao_social_nome_empresarial</th>\n",
       "      <th>natureza_juridica</th>\n",
       "      <th>qualificacao_do_responsavel</th>\n",
       "      <th>capital_social_da_empresa</th>\n",
       "      <th>porte_da_empresa</th>\n",
       "      <th>ente_federativo_responsavel</th>\n",
       "    </tr>\n",
       "  </thead>\n",
       "  <tbody>\n",
       "    <tr>\n",
       "      <th>0</th>\n",
       "      <td>41273588</td>\n",
       "      <td>STUDIO MVO2 LTDA</td>\n",
       "      <td>2062</td>\n",
       "      <td>49</td>\n",
       "      <td>20000,00</td>\n",
       "      <td>1</td>\n",
       "      <td>None</td>\n",
       "    </tr>\n",
       "    <tr>\n",
       "      <th>1</th>\n",
       "      <td>41273589</td>\n",
       "      <td>IRENILDA OLIVEIRA SILVA 11338767810</td>\n",
       "      <td>2135</td>\n",
       "      <td>50</td>\n",
       "      <td>5000,00</td>\n",
       "      <td>1</td>\n",
       "      <td>None</td>\n",
       "    </tr>\n",
       "    <tr>\n",
       "      <th>2</th>\n",
       "      <td>41273590</td>\n",
       "      <td>MARIA DAS MERCES SOARES LEMOS</td>\n",
       "      <td>4014</td>\n",
       "      <td>34</td>\n",
       "      <td>0,00</td>\n",
       "      <td>5</td>\n",
       "      <td>None</td>\n",
       "    </tr>\n",
       "    <tr>\n",
       "      <th>3</th>\n",
       "      <td>41273591</td>\n",
       "      <td>CASSIO APARECIDO LOPES 06457523803</td>\n",
       "      <td>2135</td>\n",
       "      <td>50</td>\n",
       "      <td>1000,00</td>\n",
       "      <td>1</td>\n",
       "      <td>None</td>\n",
       "    </tr>\n",
       "    <tr>\n",
       "      <th>4</th>\n",
       "      <td>41273592</td>\n",
       "      <td>41.273.592 HELIO DE JESUS PEREIRA</td>\n",
       "      <td>2135</td>\n",
       "      <td>50</td>\n",
       "      <td>30000,00</td>\n",
       "      <td>1</td>\n",
       "      <td>None</td>\n",
       "    </tr>\n",
       "  </tbody>\n",
       "</table>\n",
       "</div>"
      ],
      "text/plain": [
       "   cnpj_basico        razao_social_nome_empresarial  natureza_juridica  \\\n",
       "0     41273588                     STUDIO MVO2 LTDA               2062   \n",
       "1     41273589  IRENILDA OLIVEIRA SILVA 11338767810               2135   \n",
       "2     41273590        MARIA DAS MERCES SOARES LEMOS               4014   \n",
       "3     41273591   CASSIO APARECIDO LOPES 06457523803               2135   \n",
       "4     41273592    41.273.592 HELIO DE JESUS PEREIRA               2135   \n",
       "\n",
       "   qualificacao_do_responsavel capital_social_da_empresa  porte_da_empresa  \\\n",
       "0                           49                  20000,00                 1   \n",
       "1                           50                   5000,00                 1   \n",
       "2                           34                      0,00                 5   \n",
       "3                           50                   1000,00                 1   \n",
       "4                           50                  30000,00                 1   \n",
       "\n",
       "  ente_federativo_responsavel  \n",
       "0                        None  \n",
       "1                        None  \n",
       "2                        None  \n",
       "3                        None  \n",
       "4                        None  "
      ]
     },
     "execution_count": 13,
     "metadata": {},
     "output_type": "execute_result"
    }
   ],
   "source": [
    "empresas.limit(5).toPandas()"
   ]
  },
  {
   "cell_type": "code",
   "execution_count": 14,
   "metadata": {},
   "outputs": [
    {
     "name": "stdout",
     "output_type": "stream",
     "text": [
      "root\n",
      " |-- cnpj_basico: integer (nullable = true)\n",
      " |-- razao_social_nome_empresarial: string (nullable = true)\n",
      " |-- natureza_juridica: integer (nullable = true)\n",
      " |-- qualificacao_do_responsavel: integer (nullable = true)\n",
      " |-- capital_social_da_empresa: string (nullable = true)\n",
      " |-- porte_da_empresa: integer (nullable = true)\n",
      " |-- ente_federativo_responsavel: string (nullable = true)\n",
      "\n"
     ]
    }
   ],
   "source": [
    "empresas.printSchema()"
   ]
  },
  {
   "cell_type": "code",
   "execution_count": 15,
   "metadata": {},
   "outputs": [
    {
     "data": {
      "text/html": [
       "<div>\n",
       "<style scoped>\n",
       "    .dataframe tbody tr th:only-of-type {\n",
       "        vertical-align: middle;\n",
       "    }\n",
       "\n",
       "    .dataframe tbody tr th {\n",
       "        vertical-align: top;\n",
       "    }\n",
       "\n",
       "    .dataframe thead th {\n",
       "        text-align: right;\n",
       "    }\n",
       "</style>\n",
       "<table border=\"1\" class=\"dataframe\">\n",
       "  <thead>\n",
       "    <tr style=\"text-align: right;\">\n",
       "      <th></th>\n",
       "      <th>cnpj_basico</th>\n",
       "      <th>cnpj_ordem</th>\n",
       "      <th>cnpj_dv</th>\n",
       "      <th>identificador_matriz_filial</th>\n",
       "      <th>nome_fantasia</th>\n",
       "      <th>situacao_cadastral</th>\n",
       "      <th>data_situacao_cadastral</th>\n",
       "      <th>motivo_situacao_cadastral</th>\n",
       "      <th>nome_da_cidade_no_exterior</th>\n",
       "      <th>pais</th>\n",
       "      <th>...</th>\n",
       "      <th>municipio</th>\n",
       "      <th>ddd_1</th>\n",
       "      <th>telefone_1</th>\n",
       "      <th>ddd_2</th>\n",
       "      <th>telefone_2</th>\n",
       "      <th>ddd_do_fax</th>\n",
       "      <th>fax</th>\n",
       "      <th>correio_eletronico</th>\n",
       "      <th>situacao_especial</th>\n",
       "      <th>data_da_situacao_especial</th>\n",
       "    </tr>\n",
       "  </thead>\n",
       "  <tbody>\n",
       "    <tr>\n",
       "      <th>0</th>\n",
       "      <td>24853649</td>\n",
       "      <td>2</td>\n",
       "      <td>02</td>\n",
       "      <td>2</td>\n",
       "      <td>None</td>\n",
       "      <td>2</td>\n",
       "      <td>20180227</td>\n",
       "      <td>0</td>\n",
       "      <td>None</td>\n",
       "      <td>None</td>\n",
       "      <td>...</td>\n",
       "      <td>8561</td>\n",
       "      <td>51</td>\n",
       "      <td>33310100</td>\n",
       "      <td>None</td>\n",
       "      <td>None</td>\n",
       "      <td>NaN</td>\n",
       "      <td>None</td>\n",
       "      <td>None</td>\n",
       "      <td>None</td>\n",
       "      <td>None</td>\n",
       "    </tr>\n",
       "    <tr>\n",
       "      <th>1</th>\n",
       "      <td>29793575</td>\n",
       "      <td>1</td>\n",
       "      <td>90</td>\n",
       "      <td>1</td>\n",
       "      <td>BE BOLD SPORTS</td>\n",
       "      <td>8</td>\n",
       "      <td>20221230</td>\n",
       "      <td>1</td>\n",
       "      <td>None</td>\n",
       "      <td>None</td>\n",
       "      <td>...</td>\n",
       "      <td>7107</td>\n",
       "      <td>11</td>\n",
       "      <td>82649333</td>\n",
       "      <td>None</td>\n",
       "      <td>None</td>\n",
       "      <td>NaN</td>\n",
       "      <td>None</td>\n",
       "      <td>GABRIELREISDEALMEIDA@GMAIL.COM</td>\n",
       "      <td>None</td>\n",
       "      <td>None</td>\n",
       "    </tr>\n",
       "    <tr>\n",
       "      <th>2</th>\n",
       "      <td>29793592</td>\n",
       "      <td>1</td>\n",
       "      <td>28</td>\n",
       "      <td>1</td>\n",
       "      <td>COPY STORE CONVENIENCIA</td>\n",
       "      <td>8</td>\n",
       "      <td>20180626</td>\n",
       "      <td>1</td>\n",
       "      <td>None</td>\n",
       "      <td>None</td>\n",
       "      <td>...</td>\n",
       "      <td>0447</td>\n",
       "      <td>91</td>\n",
       "      <td>83973790</td>\n",
       "      <td>None</td>\n",
       "      <td>None</td>\n",
       "      <td>NaN</td>\n",
       "      <td>None</td>\n",
       "      <td>None</td>\n",
       "      <td>None</td>\n",
       "      <td>None</td>\n",
       "    </tr>\n",
       "    <tr>\n",
       "      <th>3</th>\n",
       "      <td>29086781</td>\n",
       "      <td>1</td>\n",
       "      <td>60</td>\n",
       "      <td>1</td>\n",
       "      <td>MEU CANTINHO</td>\n",
       "      <td>8</td>\n",
       "      <td>20180828</td>\n",
       "      <td>1</td>\n",
       "      <td>None</td>\n",
       "      <td>None</td>\n",
       "      <td>...</td>\n",
       "      <td>8599</td>\n",
       "      <td>54</td>\n",
       "      <td>30271456</td>\n",
       "      <td>None</td>\n",
       "      <td>None</td>\n",
       "      <td>NaN</td>\n",
       "      <td>None</td>\n",
       "      <td>ajasferreira@ucs.com.br</td>\n",
       "      <td>None</td>\n",
       "      <td>None</td>\n",
       "    </tr>\n",
       "    <tr>\n",
       "      <th>4</th>\n",
       "      <td>29793616</td>\n",
       "      <td>1</td>\n",
       "      <td>49</td>\n",
       "      <td>1</td>\n",
       "      <td>MAHASIN</td>\n",
       "      <td>8</td>\n",
       "      <td>20190417</td>\n",
       "      <td>1</td>\n",
       "      <td>None</td>\n",
       "      <td>None</td>\n",
       "      <td>...</td>\n",
       "      <td>6789</td>\n",
       "      <td>11</td>\n",
       "      <td>25282988</td>\n",
       "      <td>None</td>\n",
       "      <td>None</td>\n",
       "      <td>NaN</td>\n",
       "      <td>None</td>\n",
       "      <td>Basilio_vanessa@hotmail.com</td>\n",
       "      <td>None</td>\n",
       "      <td>None</td>\n",
       "    </tr>\n",
       "  </tbody>\n",
       "</table>\n",
       "<p>5 rows × 30 columns</p>\n",
       "</div>"
      ],
      "text/plain": [
       "  cnpj_basico  cnpj_ordem cnpj_dv  identificador_matriz_filial  \\\n",
       "0    24853649           2      02                            2   \n",
       "1    29793575           1      90                            1   \n",
       "2    29793592           1      28                            1   \n",
       "3    29086781           1      60                            1   \n",
       "4    29793616           1      49                            1   \n",
       "\n",
       "             nome_fantasia  situacao_cadastral  data_situacao_cadastral  \\\n",
       "0                     None                   2                 20180227   \n",
       "1           BE BOLD SPORTS                   8                 20221230   \n",
       "2  COPY STORE CONVENIENCIA                   8                 20180626   \n",
       "3             MEU CANTINHO                   8                 20180828   \n",
       "4                  MAHASIN                   8                 20190417   \n",
       "\n",
       "   motivo_situacao_cadastral nome_da_cidade_no_exterior  pais  ...  municipio  \\\n",
       "0                          0                       None  None  ...       8561   \n",
       "1                          1                       None  None  ...       7107   \n",
       "2                          1                       None  None  ...       0447   \n",
       "3                          1                       None  None  ...       8599   \n",
       "4                          1                       None  None  ...       6789   \n",
       "\n",
       "  ddd_1 telefone_1 ddd_2 telefone_2 ddd_do_fax   fax  \\\n",
       "0    51   33310100  None       None        NaN  None   \n",
       "1    11   82649333  None       None        NaN  None   \n",
       "2    91   83973790  None       None        NaN  None   \n",
       "3    54   30271456  None       None        NaN  None   \n",
       "4    11   25282988  None       None        NaN  None   \n",
       "\n",
       "               correio_eletronico situacao_especial data_da_situacao_especial  \n",
       "0                            None              None                      None  \n",
       "1  GABRIELREISDEALMEIDA@GMAIL.COM              None                      None  \n",
       "2                            None              None                      None  \n",
       "3         ajasferreira@ucs.com.br              None                      None  \n",
       "4     Basilio_vanessa@hotmail.com              None                      None  \n",
       "\n",
       "[5 rows x 30 columns]"
      ]
     },
     "execution_count": 15,
     "metadata": {},
     "output_type": "execute_result"
    }
   ],
   "source": [
    "estabelecimentos.limit(5).toPandas()"
   ]
  },
  {
   "cell_type": "code",
   "execution_count": 16,
   "metadata": {},
   "outputs": [
    {
     "name": "stdout",
     "output_type": "stream",
     "text": [
      "root\n",
      " |-- cnpj_basico: string (nullable = true)\n",
      " |-- cnpj_ordem: integer (nullable = true)\n",
      " |-- cnpj_dv: string (nullable = true)\n",
      " |-- identificador_matriz_filial: integer (nullable = true)\n",
      " |-- nome_fantasia: string (nullable = true)\n",
      " |-- situacao_cadastral: integer (nullable = true)\n",
      " |-- data_situacao_cadastral: integer (nullable = true)\n",
      " |-- motivo_situacao_cadastral: integer (nullable = true)\n",
      " |-- nome_da_cidade_no_exterior: string (nullable = true)\n",
      " |-- pais: string (nullable = true)\n",
      " |-- data_de_inicio_atividade: integer (nullable = true)\n",
      " |-- cnae_fiscal_principal: string (nullable = true)\n",
      " |-- cnae_fiscal_secundaria: string (nullable = true)\n",
      " |-- tipo_de_logradouro: string (nullable = true)\n",
      " |-- logradouro: string (nullable = true)\n",
      " |-- numero: string (nullable = true)\n",
      " |-- complemento: string (nullable = true)\n",
      " |-- bairro: string (nullable = true)\n",
      " |-- cep: string (nullable = true)\n",
      " |-- uf: string (nullable = true)\n",
      " |-- municipio: string (nullable = true)\n",
      " |-- ddd_1: string (nullable = true)\n",
      " |-- telefone_1: string (nullable = true)\n",
      " |-- ddd_2: string (nullable = true)\n",
      " |-- telefone_2: string (nullable = true)\n",
      " |-- ddd_do_fax: double (nullable = true)\n",
      " |-- fax: string (nullable = true)\n",
      " |-- correio_eletronico: string (nullable = true)\n",
      " |-- situacao_especial: string (nullable = true)\n",
      " |-- data_da_situacao_especial: string (nullable = true)\n",
      "\n"
     ]
    }
   ],
   "source": [
    "estabelecimentos.printSchema()"
   ]
  },
  {
   "cell_type": "code",
   "execution_count": 17,
   "metadata": {},
   "outputs": [
    {
     "data": {
      "text/html": [
       "<div>\n",
       "<style scoped>\n",
       "    .dataframe tbody tr th:only-of-type {\n",
       "        vertical-align: middle;\n",
       "    }\n",
       "\n",
       "    .dataframe tbody tr th {\n",
       "        vertical-align: top;\n",
       "    }\n",
       "\n",
       "    .dataframe thead th {\n",
       "        text-align: right;\n",
       "    }\n",
       "</style>\n",
       "<table border=\"1\" class=\"dataframe\">\n",
       "  <thead>\n",
       "    <tr style=\"text-align: right;\">\n",
       "      <th></th>\n",
       "      <th>cnpj_basico</th>\n",
       "      <th>identificador_de_socio</th>\n",
       "      <th>nome_do_socio_ou_razao_social</th>\n",
       "      <th>cnpj_ou_cpf_do_socio</th>\n",
       "      <th>qualificacao_do_socio</th>\n",
       "      <th>data_de_entrada_sociedade</th>\n",
       "      <th>pais</th>\n",
       "      <th>representante_legal</th>\n",
       "      <th>nome_do_representante</th>\n",
       "      <th>qualificacao_do_representante_legal</th>\n",
       "      <th>faixa_etaria</th>\n",
       "    </tr>\n",
       "  </thead>\n",
       "  <tbody>\n",
       "    <tr>\n",
       "      <th>0</th>\n",
       "      <td>2698592</td>\n",
       "      <td>2</td>\n",
       "      <td>ANA LUCIA VIEIRA</td>\n",
       "      <td>***973291**</td>\n",
       "      <td>49</td>\n",
       "      <td>20240904</td>\n",
       "      <td>NaN</td>\n",
       "      <td>***000000**</td>\n",
       "      <td>None</td>\n",
       "      <td>0</td>\n",
       "      <td>6</td>\n",
       "    </tr>\n",
       "    <tr>\n",
       "      <th>1</th>\n",
       "      <td>1070578</td>\n",
       "      <td>2</td>\n",
       "      <td>MARIO DE MELO LIMA</td>\n",
       "      <td>***317474**</td>\n",
       "      <td>22</td>\n",
       "      <td>20000331</td>\n",
       "      <td>NaN</td>\n",
       "      <td>***000000**</td>\n",
       "      <td>None</td>\n",
       "      <td>0</td>\n",
       "      <td>9</td>\n",
       "    </tr>\n",
       "    <tr>\n",
       "      <th>2</th>\n",
       "      <td>1070578</td>\n",
       "      <td>2</td>\n",
       "      <td>MARCELO BEZERRA DA SILVA</td>\n",
       "      <td>***317624**</td>\n",
       "      <td>49</td>\n",
       "      <td>20000331</td>\n",
       "      <td>NaN</td>\n",
       "      <td>***000000**</td>\n",
       "      <td>None</td>\n",
       "      <td>0</td>\n",
       "      <td>6</td>\n",
       "    </tr>\n",
       "    <tr>\n",
       "      <th>3</th>\n",
       "      <td>4433688</td>\n",
       "      <td>2</td>\n",
       "      <td>ZALMIRA QUEIROZ BRAGA</td>\n",
       "      <td>***845346**</td>\n",
       "      <td>49</td>\n",
       "      <td>20071106</td>\n",
       "      <td>NaN</td>\n",
       "      <td>***000000**</td>\n",
       "      <td>None</td>\n",
       "      <td>0</td>\n",
       "      <td>9</td>\n",
       "    </tr>\n",
       "    <tr>\n",
       "      <th>4</th>\n",
       "      <td>4433688</td>\n",
       "      <td>2</td>\n",
       "      <td>ELIDA SIRLENE BRAGA</td>\n",
       "      <td>***703886**</td>\n",
       "      <td>49</td>\n",
       "      <td>20070504</td>\n",
       "      <td>NaN</td>\n",
       "      <td>***000000**</td>\n",
       "      <td>None</td>\n",
       "      <td>0</td>\n",
       "      <td>6</td>\n",
       "    </tr>\n",
       "  </tbody>\n",
       "</table>\n",
       "</div>"
      ],
      "text/plain": [
       "   cnpj_basico  identificador_de_socio nome_do_socio_ou_razao_social  \\\n",
       "0      2698592                       2              ANA LUCIA VIEIRA   \n",
       "1      1070578                       2            MARIO DE MELO LIMA   \n",
       "2      1070578                       2      MARCELO BEZERRA DA SILVA   \n",
       "3      4433688                       2         ZALMIRA QUEIROZ BRAGA   \n",
       "4      4433688                       2           ELIDA SIRLENE BRAGA   \n",
       "\n",
       "  cnpj_ou_cpf_do_socio  qualificacao_do_socio  data_de_entrada_sociedade  \\\n",
       "0          ***973291**                     49                   20240904   \n",
       "1          ***317474**                     22                   20000331   \n",
       "2          ***317624**                     49                   20000331   \n",
       "3          ***845346**                     49                   20071106   \n",
       "4          ***703886**                     49                   20070504   \n",
       "\n",
       "   pais representante_legal nome_do_representante  \\\n",
       "0   NaN         ***000000**                  None   \n",
       "1   NaN         ***000000**                  None   \n",
       "2   NaN         ***000000**                  None   \n",
       "3   NaN         ***000000**                  None   \n",
       "4   NaN         ***000000**                  None   \n",
       "\n",
       "   qualificacao_do_representante_legal  faixa_etaria  \n",
       "0                                    0             6  \n",
       "1                                    0             9  \n",
       "2                                    0             6  \n",
       "3                                    0             9  \n",
       "4                                    0             6  "
      ]
     },
     "execution_count": 17,
     "metadata": {},
     "output_type": "execute_result"
    }
   ],
   "source": [
    "socios.limit(5).toPandas()"
   ]
  },
  {
   "cell_type": "code",
   "execution_count": 18,
   "metadata": {},
   "outputs": [
    {
     "name": "stdout",
     "output_type": "stream",
     "text": [
      "root\n",
      " |-- cnpj_basico: integer (nullable = true)\n",
      " |-- identificador_de_socio: integer (nullable = true)\n",
      " |-- nome_do_socio_ou_razao_social: string (nullable = true)\n",
      " |-- cnpj_ou_cpf_do_socio: string (nullable = true)\n",
      " |-- qualificacao_do_socio: integer (nullable = true)\n",
      " |-- data_de_entrada_sociedade: integer (nullable = true)\n",
      " |-- pais: integer (nullable = true)\n",
      " |-- representante_legal: string (nullable = true)\n",
      " |-- nome_do_representante: string (nullable = true)\n",
      " |-- qualificacao_do_representante_legal: integer (nullable = true)\n",
      " |-- faixa_etaria: integer (nullable = true)\n",
      "\n"
     ]
    }
   ],
   "source": [
    "socios.printSchema()"
   ]
  },
  {
   "cell_type": "markdown",
   "metadata": {},
   "source": [
    "## Convertendo Tipos de Variável\n"
   ]
  },
  {
   "cell_type": "code",
   "execution_count": 19,
   "metadata": {},
   "outputs": [],
   "source": [
    "from pyspark.sql.types import DoubleType, StringType\n",
    "from pyspark.sql import functions as f\n"
   ]
  },
  {
   "cell_type": "code",
   "execution_count": 20,
   "metadata": {},
   "outputs": [
    {
     "name": "stdout",
     "output_type": "stream",
     "text": [
      "root\n",
      " |-- cnpj_basico: integer (nullable = true)\n",
      " |-- razao_social_nome_empresarial: string (nullable = true)\n",
      " |-- natureza_juridica: integer (nullable = true)\n",
      " |-- qualificacao_do_responsavel: integer (nullable = true)\n",
      " |-- capital_social_da_empresa: double (nullable = true)\n",
      " |-- porte_da_empresa: integer (nullable = true)\n",
      " |-- ente_federativo_responsavel: string (nullable = true)\n",
      "\n"
     ]
    }
   ],
   "source": [
    "empresas = empresas.withColumn(\"capital_social_da_empresa\", f.regexp_replace(\"capital_social_da_empresa\", \",\", \".\"))\n",
    "empresas = empresas.withColumn(\"capital_social_da_empresa\", empresas[\"capital_social_da_empresa\"].cast(DoubleType()))\n",
    "\n",
    "empresas.printSchema()"
   ]
  },
  {
   "cell_type": "code",
   "execution_count": 21,
   "metadata": {},
   "outputs": [
    {
     "data": {
      "text/html": [
       "<div>\n",
       "<style scoped>\n",
       "    .dataframe tbody tr th:only-of-type {\n",
       "        vertical-align: middle;\n",
       "    }\n",
       "\n",
       "    .dataframe tbody tr th {\n",
       "        vertical-align: top;\n",
       "    }\n",
       "\n",
       "    .dataframe thead th {\n",
       "        text-align: right;\n",
       "    }\n",
       "</style>\n",
       "<table border=\"1\" class=\"dataframe\">\n",
       "  <thead>\n",
       "    <tr style=\"text-align: right;\">\n",
       "      <th></th>\n",
       "      <th>cnpj_basico</th>\n",
       "      <th>razao_social_nome_empresarial</th>\n",
       "      <th>natureza_juridica</th>\n",
       "      <th>qualificacao_do_responsavel</th>\n",
       "      <th>capital_social_da_empresa</th>\n",
       "      <th>porte_da_empresa</th>\n",
       "      <th>ente_federativo_responsavel</th>\n",
       "    </tr>\n",
       "  </thead>\n",
       "  <tbody>\n",
       "    <tr>\n",
       "      <th>0</th>\n",
       "      <td>41273588</td>\n",
       "      <td>STUDIO MVO2 LTDA</td>\n",
       "      <td>2062</td>\n",
       "      <td>49</td>\n",
       "      <td>20000.0</td>\n",
       "      <td>1</td>\n",
       "      <td>None</td>\n",
       "    </tr>\n",
       "    <tr>\n",
       "      <th>1</th>\n",
       "      <td>41273589</td>\n",
       "      <td>IRENILDA OLIVEIRA SILVA 11338767810</td>\n",
       "      <td>2135</td>\n",
       "      <td>50</td>\n",
       "      <td>5000.0</td>\n",
       "      <td>1</td>\n",
       "      <td>None</td>\n",
       "    </tr>\n",
       "    <tr>\n",
       "      <th>2</th>\n",
       "      <td>41273590</td>\n",
       "      <td>MARIA DAS MERCES SOARES LEMOS</td>\n",
       "      <td>4014</td>\n",
       "      <td>34</td>\n",
       "      <td>0.0</td>\n",
       "      <td>5</td>\n",
       "      <td>None</td>\n",
       "    </tr>\n",
       "    <tr>\n",
       "      <th>3</th>\n",
       "      <td>41273591</td>\n",
       "      <td>CASSIO APARECIDO LOPES 06457523803</td>\n",
       "      <td>2135</td>\n",
       "      <td>50</td>\n",
       "      <td>1000.0</td>\n",
       "      <td>1</td>\n",
       "      <td>None</td>\n",
       "    </tr>\n",
       "    <tr>\n",
       "      <th>4</th>\n",
       "      <td>41273592</td>\n",
       "      <td>41.273.592 HELIO DE JESUS PEREIRA</td>\n",
       "      <td>2135</td>\n",
       "      <td>50</td>\n",
       "      <td>30000.0</td>\n",
       "      <td>1</td>\n",
       "      <td>None</td>\n",
       "    </tr>\n",
       "  </tbody>\n",
       "</table>\n",
       "</div>"
      ],
      "text/plain": [
       "   cnpj_basico        razao_social_nome_empresarial  natureza_juridica  \\\n",
       "0     41273588                     STUDIO MVO2 LTDA               2062   \n",
       "1     41273589  IRENILDA OLIVEIRA SILVA 11338767810               2135   \n",
       "2     41273590        MARIA DAS MERCES SOARES LEMOS               4014   \n",
       "3     41273591   CASSIO APARECIDO LOPES 06457523803               2135   \n",
       "4     41273592    41.273.592 HELIO DE JESUS PEREIRA               2135   \n",
       "\n",
       "   qualificacao_do_responsavel  capital_social_da_empresa  porte_da_empresa  \\\n",
       "0                           49                    20000.0                 1   \n",
       "1                           50                     5000.0                 1   \n",
       "2                           34                        0.0                 5   \n",
       "3                           50                     1000.0                 1   \n",
       "4                           50                    30000.0                 1   \n",
       "\n",
       "  ente_federativo_responsavel  \n",
       "0                        None  \n",
       "1                        None  \n",
       "2                        None  \n",
       "3                        None  \n",
       "4                        None  "
      ]
     },
     "execution_count": 21,
     "metadata": {},
     "output_type": "execute_result"
    }
   ],
   "source": [
    "empresas.limit(5).toPandas()"
   ]
  },
  {
   "cell_type": "code",
   "execution_count": 22,
   "metadata": {},
   "outputs": [
    {
     "name": "stdout",
     "output_type": "stream",
     "text": [
      "root\n",
      " |-- cnpj_basico: string (nullable = true)\n",
      " |-- cnpj_ordem: integer (nullable = true)\n",
      " |-- cnpj_dv: string (nullable = true)\n",
      " |-- identificador_matriz_filial: integer (nullable = true)\n",
      " |-- nome_fantasia: string (nullable = true)\n",
      " |-- situacao_cadastral: integer (nullable = true)\n",
      " |-- data_situacao_cadastral: date (nullable = true)\n",
      " |-- motivo_situacao_cadastral: integer (nullable = true)\n",
      " |-- nome_da_cidade_no_exterior: string (nullable = true)\n",
      " |-- pais: string (nullable = true)\n",
      " |-- data_de_inicio_atividade: date (nullable = true)\n",
      " |-- cnae_fiscal_principal: string (nullable = true)\n",
      " |-- cnae_fiscal_secundaria: string (nullable = true)\n",
      " |-- tipo_de_logradouro: string (nullable = true)\n",
      " |-- logradouro: string (nullable = true)\n",
      " |-- numero: string (nullable = true)\n",
      " |-- complemento: string (nullable = true)\n",
      " |-- bairro: string (nullable = true)\n",
      " |-- cep: string (nullable = true)\n",
      " |-- uf: string (nullable = true)\n",
      " |-- municipio: string (nullable = true)\n",
      " |-- ddd_1: string (nullable = true)\n",
      " |-- telefone_1: string (nullable = true)\n",
      " |-- ddd_2: string (nullable = true)\n",
      " |-- telefone_2: string (nullable = true)\n",
      " |-- ddd_do_fax: double (nullable = true)\n",
      " |-- fax: string (nullable = true)\n",
      " |-- correio_eletronico: string (nullable = true)\n",
      " |-- situacao_especial: string (nullable = true)\n",
      " |-- data_da_situacao_especial: date (nullable = true)\n",
      "\n"
     ]
    }
   ],
   "source": [
    "estabelecimentos = estabelecimentos\\\n",
    "    .withColumn(\"data_situacao_cadastral\",\n",
    "                f.to_date(estabelecimentos.data_situacao_cadastral.cast(StringType()), \"yyyyMMdd\")\n",
    "                )\\\n",
    "    .withColumn(\"data_de_inicio_atividade\",\n",
    "                f.to_date(estabelecimentos.data_de_inicio_atividade.cast(StringType()), \"yyyyMMdd\")\n",
    "                )\\\n",
    "    .withColumn(\"data_da_situacao_especial\",\n",
    "                f.to_date(estabelecimentos.data_da_situacao_especial.cast(StringType()), \"yyyyMMdd\")\n",
    "                )\\\n",
    "\n",
    "estabelecimentos.printSchema()"
   ]
  },
  {
   "cell_type": "code",
   "execution_count": 23,
   "metadata": {},
   "outputs": [
    {
     "data": {
      "text/html": [
       "<div>\n",
       "<style scoped>\n",
       "    .dataframe tbody tr th:only-of-type {\n",
       "        vertical-align: middle;\n",
       "    }\n",
       "\n",
       "    .dataframe tbody tr th {\n",
       "        vertical-align: top;\n",
       "    }\n",
       "\n",
       "    .dataframe thead th {\n",
       "        text-align: right;\n",
       "    }\n",
       "</style>\n",
       "<table border=\"1\" class=\"dataframe\">\n",
       "  <thead>\n",
       "    <tr style=\"text-align: right;\">\n",
       "      <th></th>\n",
       "      <th>cnpj_basico</th>\n",
       "      <th>cnpj_ordem</th>\n",
       "      <th>cnpj_dv</th>\n",
       "      <th>identificador_matriz_filial</th>\n",
       "      <th>nome_fantasia</th>\n",
       "      <th>situacao_cadastral</th>\n",
       "      <th>data_situacao_cadastral</th>\n",
       "      <th>motivo_situacao_cadastral</th>\n",
       "      <th>nome_da_cidade_no_exterior</th>\n",
       "      <th>pais</th>\n",
       "      <th>...</th>\n",
       "      <th>municipio</th>\n",
       "      <th>ddd_1</th>\n",
       "      <th>telefone_1</th>\n",
       "      <th>ddd_2</th>\n",
       "      <th>telefone_2</th>\n",
       "      <th>ddd_do_fax</th>\n",
       "      <th>fax</th>\n",
       "      <th>correio_eletronico</th>\n",
       "      <th>situacao_especial</th>\n",
       "      <th>data_da_situacao_especial</th>\n",
       "    </tr>\n",
       "  </thead>\n",
       "  <tbody>\n",
       "    <tr>\n",
       "      <th>0</th>\n",
       "      <td>24853649</td>\n",
       "      <td>2</td>\n",
       "      <td>02</td>\n",
       "      <td>2</td>\n",
       "      <td>None</td>\n",
       "      <td>2</td>\n",
       "      <td>2018-02-27</td>\n",
       "      <td>0</td>\n",
       "      <td>None</td>\n",
       "      <td>None</td>\n",
       "      <td>...</td>\n",
       "      <td>8561</td>\n",
       "      <td>51</td>\n",
       "      <td>33310100</td>\n",
       "      <td>None</td>\n",
       "      <td>None</td>\n",
       "      <td>NaN</td>\n",
       "      <td>None</td>\n",
       "      <td>None</td>\n",
       "      <td>None</td>\n",
       "      <td>None</td>\n",
       "    </tr>\n",
       "    <tr>\n",
       "      <th>1</th>\n",
       "      <td>29793575</td>\n",
       "      <td>1</td>\n",
       "      <td>90</td>\n",
       "      <td>1</td>\n",
       "      <td>BE BOLD SPORTS</td>\n",
       "      <td>8</td>\n",
       "      <td>2022-12-30</td>\n",
       "      <td>1</td>\n",
       "      <td>None</td>\n",
       "      <td>None</td>\n",
       "      <td>...</td>\n",
       "      <td>7107</td>\n",
       "      <td>11</td>\n",
       "      <td>82649333</td>\n",
       "      <td>None</td>\n",
       "      <td>None</td>\n",
       "      <td>NaN</td>\n",
       "      <td>None</td>\n",
       "      <td>GABRIELREISDEALMEIDA@GMAIL.COM</td>\n",
       "      <td>None</td>\n",
       "      <td>None</td>\n",
       "    </tr>\n",
       "    <tr>\n",
       "      <th>2</th>\n",
       "      <td>29793592</td>\n",
       "      <td>1</td>\n",
       "      <td>28</td>\n",
       "      <td>1</td>\n",
       "      <td>COPY STORE CONVENIENCIA</td>\n",
       "      <td>8</td>\n",
       "      <td>2018-06-26</td>\n",
       "      <td>1</td>\n",
       "      <td>None</td>\n",
       "      <td>None</td>\n",
       "      <td>...</td>\n",
       "      <td>0447</td>\n",
       "      <td>91</td>\n",
       "      <td>83973790</td>\n",
       "      <td>None</td>\n",
       "      <td>None</td>\n",
       "      <td>NaN</td>\n",
       "      <td>None</td>\n",
       "      <td>None</td>\n",
       "      <td>None</td>\n",
       "      <td>None</td>\n",
       "    </tr>\n",
       "    <tr>\n",
       "      <th>3</th>\n",
       "      <td>29086781</td>\n",
       "      <td>1</td>\n",
       "      <td>60</td>\n",
       "      <td>1</td>\n",
       "      <td>MEU CANTINHO</td>\n",
       "      <td>8</td>\n",
       "      <td>2018-08-28</td>\n",
       "      <td>1</td>\n",
       "      <td>None</td>\n",
       "      <td>None</td>\n",
       "      <td>...</td>\n",
       "      <td>8599</td>\n",
       "      <td>54</td>\n",
       "      <td>30271456</td>\n",
       "      <td>None</td>\n",
       "      <td>None</td>\n",
       "      <td>NaN</td>\n",
       "      <td>None</td>\n",
       "      <td>ajasferreira@ucs.com.br</td>\n",
       "      <td>None</td>\n",
       "      <td>None</td>\n",
       "    </tr>\n",
       "    <tr>\n",
       "      <th>4</th>\n",
       "      <td>29793616</td>\n",
       "      <td>1</td>\n",
       "      <td>49</td>\n",
       "      <td>1</td>\n",
       "      <td>MAHASIN</td>\n",
       "      <td>8</td>\n",
       "      <td>2019-04-17</td>\n",
       "      <td>1</td>\n",
       "      <td>None</td>\n",
       "      <td>None</td>\n",
       "      <td>...</td>\n",
       "      <td>6789</td>\n",
       "      <td>11</td>\n",
       "      <td>25282988</td>\n",
       "      <td>None</td>\n",
       "      <td>None</td>\n",
       "      <td>NaN</td>\n",
       "      <td>None</td>\n",
       "      <td>Basilio_vanessa@hotmail.com</td>\n",
       "      <td>None</td>\n",
       "      <td>None</td>\n",
       "    </tr>\n",
       "  </tbody>\n",
       "</table>\n",
       "<p>5 rows × 30 columns</p>\n",
       "</div>"
      ],
      "text/plain": [
       "  cnpj_basico  cnpj_ordem cnpj_dv  identificador_matriz_filial  \\\n",
       "0    24853649           2      02                            2   \n",
       "1    29793575           1      90                            1   \n",
       "2    29793592           1      28                            1   \n",
       "3    29086781           1      60                            1   \n",
       "4    29793616           1      49                            1   \n",
       "\n",
       "             nome_fantasia  situacao_cadastral data_situacao_cadastral  \\\n",
       "0                     None                   2              2018-02-27   \n",
       "1           BE BOLD SPORTS                   8              2022-12-30   \n",
       "2  COPY STORE CONVENIENCIA                   8              2018-06-26   \n",
       "3             MEU CANTINHO                   8              2018-08-28   \n",
       "4                  MAHASIN                   8              2019-04-17   \n",
       "\n",
       "   motivo_situacao_cadastral nome_da_cidade_no_exterior  pais  ... municipio  \\\n",
       "0                          0                       None  None  ...      8561   \n",
       "1                          1                       None  None  ...      7107   \n",
       "2                          1                       None  None  ...      0447   \n",
       "3                          1                       None  None  ...      8599   \n",
       "4                          1                       None  None  ...      6789   \n",
       "\n",
       "  ddd_1 telefone_1 ddd_2 telefone_2 ddd_do_fax   fax  \\\n",
       "0    51   33310100  None       None        NaN  None   \n",
       "1    11   82649333  None       None        NaN  None   \n",
       "2    91   83973790  None       None        NaN  None   \n",
       "3    54   30271456  None       None        NaN  None   \n",
       "4    11   25282988  None       None        NaN  None   \n",
       "\n",
       "               correio_eletronico situacao_especial data_da_situacao_especial  \n",
       "0                            None              None                      None  \n",
       "1  GABRIELREISDEALMEIDA@GMAIL.COM              None                      None  \n",
       "2                            None              None                      None  \n",
       "3         ajasferreira@ucs.com.br              None                      None  \n",
       "4     Basilio_vanessa@hotmail.com              None                      None  \n",
       "\n",
       "[5 rows x 30 columns]"
      ]
     },
     "execution_count": 23,
     "metadata": {},
     "output_type": "execute_result"
    }
   ],
   "source": [
    "estabelecimentos.limit(5).toPandas()"
   ]
  },
  {
   "cell_type": "code",
   "execution_count": 24,
   "metadata": {},
   "outputs": [
    {
     "name": "stdout",
     "output_type": "stream",
     "text": [
      "root\n",
      " |-- cnpj_basico: integer (nullable = true)\n",
      " |-- identificador_de_socio: integer (nullable = true)\n",
      " |-- nome_do_socio_ou_razao_social: string (nullable = true)\n",
      " |-- cnpj_ou_cpf_do_socio: string (nullable = true)\n",
      " |-- qualificacao_do_socio: integer (nullable = true)\n",
      " |-- data_de_entrada_sociedade: date (nullable = true)\n",
      " |-- pais: integer (nullable = true)\n",
      " |-- representante_legal: string (nullable = true)\n",
      " |-- nome_do_representante: string (nullable = true)\n",
      " |-- qualificacao_do_representante_legal: integer (nullable = true)\n",
      " |-- faixa_etaria: integer (nullable = true)\n",
      "\n"
     ]
    }
   ],
   "source": [
    "socios = socios\\\n",
    "    .withColumn(\"data_de_entrada_sociedade\",\n",
    "                f.to_date(socios.data_de_entrada_sociedade.cast(StringType()), \"yyyyMMdd\")\n",
    "                )\n",
    "\n",
    "socios.printSchema()"
   ]
  },
  {
   "cell_type": "code",
   "execution_count": 25,
   "metadata": {},
   "outputs": [
    {
     "data": {
      "text/html": [
       "<div>\n",
       "<style scoped>\n",
       "    .dataframe tbody tr th:only-of-type {\n",
       "        vertical-align: middle;\n",
       "    }\n",
       "\n",
       "    .dataframe tbody tr th {\n",
       "        vertical-align: top;\n",
       "    }\n",
       "\n",
       "    .dataframe thead th {\n",
       "        text-align: right;\n",
       "    }\n",
       "</style>\n",
       "<table border=\"1\" class=\"dataframe\">\n",
       "  <thead>\n",
       "    <tr style=\"text-align: right;\">\n",
       "      <th></th>\n",
       "      <th>cnpj_basico</th>\n",
       "      <th>identificador_de_socio</th>\n",
       "      <th>nome_do_socio_ou_razao_social</th>\n",
       "      <th>cnpj_ou_cpf_do_socio</th>\n",
       "      <th>qualificacao_do_socio</th>\n",
       "      <th>data_de_entrada_sociedade</th>\n",
       "      <th>pais</th>\n",
       "      <th>representante_legal</th>\n",
       "      <th>nome_do_representante</th>\n",
       "      <th>qualificacao_do_representante_legal</th>\n",
       "      <th>faixa_etaria</th>\n",
       "    </tr>\n",
       "  </thead>\n",
       "  <tbody>\n",
       "    <tr>\n",
       "      <th>0</th>\n",
       "      <td>2698592</td>\n",
       "      <td>2</td>\n",
       "      <td>ANA LUCIA VIEIRA</td>\n",
       "      <td>***973291**</td>\n",
       "      <td>49</td>\n",
       "      <td>2024-09-04</td>\n",
       "      <td>NaN</td>\n",
       "      <td>***000000**</td>\n",
       "      <td>None</td>\n",
       "      <td>0</td>\n",
       "      <td>6</td>\n",
       "    </tr>\n",
       "    <tr>\n",
       "      <th>1</th>\n",
       "      <td>1070578</td>\n",
       "      <td>2</td>\n",
       "      <td>MARIO DE MELO LIMA</td>\n",
       "      <td>***317474**</td>\n",
       "      <td>22</td>\n",
       "      <td>2000-03-31</td>\n",
       "      <td>NaN</td>\n",
       "      <td>***000000**</td>\n",
       "      <td>None</td>\n",
       "      <td>0</td>\n",
       "      <td>9</td>\n",
       "    </tr>\n",
       "    <tr>\n",
       "      <th>2</th>\n",
       "      <td>1070578</td>\n",
       "      <td>2</td>\n",
       "      <td>MARCELO BEZERRA DA SILVA</td>\n",
       "      <td>***317624**</td>\n",
       "      <td>49</td>\n",
       "      <td>2000-03-31</td>\n",
       "      <td>NaN</td>\n",
       "      <td>***000000**</td>\n",
       "      <td>None</td>\n",
       "      <td>0</td>\n",
       "      <td>6</td>\n",
       "    </tr>\n",
       "    <tr>\n",
       "      <th>3</th>\n",
       "      <td>4433688</td>\n",
       "      <td>2</td>\n",
       "      <td>ZALMIRA QUEIROZ BRAGA</td>\n",
       "      <td>***845346**</td>\n",
       "      <td>49</td>\n",
       "      <td>2007-11-06</td>\n",
       "      <td>NaN</td>\n",
       "      <td>***000000**</td>\n",
       "      <td>None</td>\n",
       "      <td>0</td>\n",
       "      <td>9</td>\n",
       "    </tr>\n",
       "    <tr>\n",
       "      <th>4</th>\n",
       "      <td>4433688</td>\n",
       "      <td>2</td>\n",
       "      <td>ELIDA SIRLENE BRAGA</td>\n",
       "      <td>***703886**</td>\n",
       "      <td>49</td>\n",
       "      <td>2007-05-04</td>\n",
       "      <td>NaN</td>\n",
       "      <td>***000000**</td>\n",
       "      <td>None</td>\n",
       "      <td>0</td>\n",
       "      <td>6</td>\n",
       "    </tr>\n",
       "  </tbody>\n",
       "</table>\n",
       "</div>"
      ],
      "text/plain": [
       "   cnpj_basico  identificador_de_socio nome_do_socio_ou_razao_social  \\\n",
       "0      2698592                       2              ANA LUCIA VIEIRA   \n",
       "1      1070578                       2            MARIO DE MELO LIMA   \n",
       "2      1070578                       2      MARCELO BEZERRA DA SILVA   \n",
       "3      4433688                       2         ZALMIRA QUEIROZ BRAGA   \n",
       "4      4433688                       2           ELIDA SIRLENE BRAGA   \n",
       "\n",
       "  cnpj_ou_cpf_do_socio  qualificacao_do_socio data_de_entrada_sociedade  pais  \\\n",
       "0          ***973291**                     49                2024-09-04   NaN   \n",
       "1          ***317474**                     22                2000-03-31   NaN   \n",
       "2          ***317624**                     49                2000-03-31   NaN   \n",
       "3          ***845346**                     49                2007-11-06   NaN   \n",
       "4          ***703886**                     49                2007-05-04   NaN   \n",
       "\n",
       "  representante_legal nome_do_representante  \\\n",
       "0         ***000000**                  None   \n",
       "1         ***000000**                  None   \n",
       "2         ***000000**                  None   \n",
       "3         ***000000**                  None   \n",
       "4         ***000000**                  None   \n",
       "\n",
       "   qualificacao_do_representante_legal  faixa_etaria  \n",
       "0                                    0             6  \n",
       "1                                    0             9  \n",
       "2                                    0             6  \n",
       "3                                    0             9  \n",
       "4                                    0             6  "
      ]
     },
     "execution_count": 25,
     "metadata": {},
     "output_type": "execute_result"
    }
   ],
   "source": [
    "socios.limit(5).toPandas()"
   ]
  },
  {
   "cell_type": "markdown",
   "metadata": {},
   "source": [
    "## Seleções e Consultas"
   ]
  },
  {
   "cell_type": "code",
   "execution_count": 26,
   "metadata": {},
   "outputs": [
    {
     "name": "stdout",
     "output_type": "stream",
     "text": [
      "+-----------+-----------------------------------+-----------------+---------------------------+-------------------------+----------------+---------------------------+\n",
      "|cnpj_basico|razao_social_nome_empresarial      |natureza_juridica|qualificacao_do_responsavel|capital_social_da_empresa|porte_da_empresa|ente_federativo_responsavel|\n",
      "+-----------+-----------------------------------+-----------------+---------------------------+-------------------------+----------------+---------------------------+\n",
      "|41273588   |STUDIO MVO2 LTDA                   |2062             |49                         |20000.0                  |1               |NULL                       |\n",
      "|41273589   |IRENILDA OLIVEIRA SILVA 11338767810|2135             |50                         |5000.0                   |1               |NULL                       |\n",
      "|41273590   |MARIA DAS MERCES SOARES LEMOS      |4014             |34                         |0.0                      |5               |NULL                       |\n",
      "|41273591   |CASSIO APARECIDO LOPES 06457523803 |2135             |50                         |1000.0                   |1               |NULL                       |\n",
      "|41273592   |41.273.592 HELIO DE JESUS PEREIRA  |2135             |50                         |30000.0                  |1               |NULL                       |\n",
      "+-----------+-----------------------------------+-----------------+---------------------------+-------------------------+----------------+---------------------------+\n",
      "only showing top 5 rows\n",
      "\n"
     ]
    }
   ],
   "source": [
    "empresas\\\n",
    "    .select(\"*\")\\\n",
    "    .show(5, False) #O false é para não truncar a informação (cortar o texto)"
   ]
  },
  {
   "cell_type": "code",
   "execution_count": 27,
   "metadata": {},
   "outputs": [
    {
     "name": "stdout",
     "output_type": "stream",
     "text": [
      "+-----------------+----------------+-------------------------+\n",
      "|natureza_juridica|porte_da_empresa|capital_social_da_empresa|\n",
      "+-----------------+----------------+-------------------------+\n",
      "|2062             |1               |20000.0                  |\n",
      "|2135             |1               |5000.0                   |\n",
      "|4014             |5               |0.0                      |\n",
      "|2135             |1               |1000.0                   |\n",
      "|2135             |1               |30000.0                  |\n",
      "+-----------------+----------------+-------------------------+\n",
      "only showing top 5 rows\n",
      "\n"
     ]
    }
   ],
   "source": [
    "empresas\\\n",
    "    .select(\"natureza_juridica\",\n",
    "            \"porte_da_empresa\",\n",
    "            \"capital_social_da_empresa\")\\\n",
    "    .show(5, False) #O false é para não truncar a informação (cortar o texto)"
   ]
  },
  {
   "cell_type": "code",
   "execution_count": 28,
   "metadata": {},
   "outputs": [
    {
     "name": "stdout",
     "output_type": "stream",
     "text": [
      "+-----------------------------+------------+--------------+\n",
      "|nome_do_socio_ou_razao_social|faixa_etaria|ano_de_entrada|\n",
      "+-----------------------------+------------+--------------+\n",
      "|ANA LUCIA VIEIRA             |6           |2024          |\n",
      "|MARIO DE MELO LIMA           |9           |2000          |\n",
      "|MARCELO BEZERRA DA SILVA     |6           |2000          |\n",
      "|ZALMIRA QUEIROZ BRAGA        |9           |2007          |\n",
      "|ELIDA SIRLENE BRAGA          |6           |2007          |\n",
      "+-----------------------------+------------+--------------+\n",
      "only showing top 5 rows\n",
      "\n"
     ]
    }
   ],
   "source": [
    "socios\\\n",
    "    .select(\"nome_do_socio_ou_razao_social\", \n",
    "            \"faixa_etaria\", \n",
    "            f.year(\"data_de_entrada_sociedade\").alias(\"ano_de_entrada\"))\\\n",
    "    .show(5, False)"
   ]
  },
  {
   "cell_type": "code",
   "execution_count": 29,
   "metadata": {},
   "outputs": [
    {
     "name": "stdout",
     "output_type": "stream",
     "text": [
      "+-----------------------+---------+-----------------------+-----------------------+\n",
      "|nome_fantasia          |municipio|ano_de_inicio_atividade|mes_de_inicio_atividade|\n",
      "+-----------------------+---------+-----------------------+-----------------------+\n",
      "|NULL                   |8561     |2018                   |2                      |\n",
      "|BE BOLD SPORTS         |7107     |2018                   |2                      |\n",
      "|COPY STORE CONVENIENCIA|0447     |2018                   |2                      |\n",
      "|MEU CANTINHO           |8599     |2017                   |11                     |\n",
      "|MAHASIN                |6789     |2018                   |2                      |\n",
      "+-----------------------+---------+-----------------------+-----------------------+\n",
      "only showing top 5 rows\n",
      "\n"
     ]
    }
   ],
   "source": [
    "estabelecimentos\\\n",
    "    .select(\"nome_fantasia\",\n",
    "            \"municipio\",\n",
    "            f.year(\"data_de_inicio_atividade\").alias(\"ano_de_inicio_atividade\"),\n",
    "            f.month(\"data_de_inicio_atividade\").alias(\"mes_de_inicio_atividade\"))\\\n",
    "    .show(5, False)"
   ]
  },
  {
   "cell_type": "markdown",
   "metadata": {},
   "source": [
    "## Explorando Nulos\n"
   ]
  },
  {
   "cell_type": "code",
   "execution_count": 30,
   "metadata": {},
   "outputs": [
    {
     "name": "stdout",
     "output_type": "stream",
     "text": [
      "+-----------+----------------------+-----------------------------+--------------------+---------------------+-------------------------+-------+-------------------+---------------------+-----------------------------------+------------+\n",
      "|cnpj_basico|identificador_de_socio|nome_do_socio_ou_razao_social|cnpj_ou_cpf_do_socio|qualificacao_do_socio|data_de_entrada_sociedade|   pais|representante_legal|nome_do_representante|qualificacao_do_representante_legal|faixa_etaria|\n",
      "+-----------+----------------------+-----------------------------+--------------------+---------------------+-------------------------+-------+-------------------+---------------------+-----------------------------------+------------+\n",
      "|          0|                     0|                          563|                3434|                    0|                        1|7351526|                  0|              7186226|                                  0|           0|\n",
      "+-----------+----------------------+-----------------------------+--------------------+---------------------+-------------------------+-------+-------------------+---------------------+-----------------------------------+------------+\n",
      "\n"
     ]
    }
   ],
   "source": [
    "socios.select([f.count(f.when(f.isnull(c),1)).alias(c) for c in socios.columns]).show()"
   ]
  },
  {
   "cell_type": "code",
   "execution_count": 31,
   "metadata": {},
   "outputs": [
    {
     "data": {
      "text/html": [
       "<div>\n",
       "<style scoped>\n",
       "    .dataframe tbody tr th:only-of-type {\n",
       "        vertical-align: middle;\n",
       "    }\n",
       "\n",
       "    .dataframe tbody tr th {\n",
       "        vertical-align: top;\n",
       "    }\n",
       "\n",
       "    .dataframe thead th {\n",
       "        text-align: right;\n",
       "    }\n",
       "</style>\n",
       "<table border=\"1\" class=\"dataframe\">\n",
       "  <thead>\n",
       "    <tr style=\"text-align: right;\">\n",
       "      <th></th>\n",
       "      <th>cnpj_basico</th>\n",
       "      <th>identificador_de_socio</th>\n",
       "      <th>nome_do_socio_ou_razao_social</th>\n",
       "      <th>cnpj_ou_cpf_do_socio</th>\n",
       "      <th>qualificacao_do_socio</th>\n",
       "      <th>data_de_entrada_sociedade</th>\n",
       "      <th>pais</th>\n",
       "      <th>representante_legal</th>\n",
       "      <th>nome_do_representante</th>\n",
       "      <th>qualificacao_do_representante_legal</th>\n",
       "      <th>faixa_etaria</th>\n",
       "    </tr>\n",
       "  </thead>\n",
       "  <tbody>\n",
       "    <tr>\n",
       "      <th>0</th>\n",
       "      <td>2698592</td>\n",
       "      <td>2</td>\n",
       "      <td>ANA LUCIA VIEIRA</td>\n",
       "      <td>***973291**</td>\n",
       "      <td>49</td>\n",
       "      <td>2024-09-04</td>\n",
       "      <td>0</td>\n",
       "      <td>***000000**</td>\n",
       "      <td>None</td>\n",
       "      <td>0</td>\n",
       "      <td>6</td>\n",
       "    </tr>\n",
       "    <tr>\n",
       "      <th>1</th>\n",
       "      <td>1070578</td>\n",
       "      <td>2</td>\n",
       "      <td>MARIO DE MELO LIMA</td>\n",
       "      <td>***317474**</td>\n",
       "      <td>22</td>\n",
       "      <td>2000-03-31</td>\n",
       "      <td>0</td>\n",
       "      <td>***000000**</td>\n",
       "      <td>None</td>\n",
       "      <td>0</td>\n",
       "      <td>9</td>\n",
       "    </tr>\n",
       "    <tr>\n",
       "      <th>2</th>\n",
       "      <td>1070578</td>\n",
       "      <td>2</td>\n",
       "      <td>MARCELO BEZERRA DA SILVA</td>\n",
       "      <td>***317624**</td>\n",
       "      <td>49</td>\n",
       "      <td>2000-03-31</td>\n",
       "      <td>0</td>\n",
       "      <td>***000000**</td>\n",
       "      <td>None</td>\n",
       "      <td>0</td>\n",
       "      <td>6</td>\n",
       "    </tr>\n",
       "    <tr>\n",
       "      <th>3</th>\n",
       "      <td>4433688</td>\n",
       "      <td>2</td>\n",
       "      <td>ZALMIRA QUEIROZ BRAGA</td>\n",
       "      <td>***845346**</td>\n",
       "      <td>49</td>\n",
       "      <td>2007-11-06</td>\n",
       "      <td>0</td>\n",
       "      <td>***000000**</td>\n",
       "      <td>None</td>\n",
       "      <td>0</td>\n",
       "      <td>9</td>\n",
       "    </tr>\n",
       "    <tr>\n",
       "      <th>4</th>\n",
       "      <td>4433688</td>\n",
       "      <td>2</td>\n",
       "      <td>ELIDA SIRLENE BRAGA</td>\n",
       "      <td>***703886**</td>\n",
       "      <td>49</td>\n",
       "      <td>2007-05-04</td>\n",
       "      <td>0</td>\n",
       "      <td>***000000**</td>\n",
       "      <td>None</td>\n",
       "      <td>0</td>\n",
       "      <td>6</td>\n",
       "    </tr>\n",
       "  </tbody>\n",
       "</table>\n",
       "</div>"
      ],
      "text/plain": [
       "   cnpj_basico  identificador_de_socio nome_do_socio_ou_razao_social  \\\n",
       "0      2698592                       2              ANA LUCIA VIEIRA   \n",
       "1      1070578                       2            MARIO DE MELO LIMA   \n",
       "2      1070578                       2      MARCELO BEZERRA DA SILVA   \n",
       "3      4433688                       2         ZALMIRA QUEIROZ BRAGA   \n",
       "4      4433688                       2           ELIDA SIRLENE BRAGA   \n",
       "\n",
       "  cnpj_ou_cpf_do_socio  qualificacao_do_socio data_de_entrada_sociedade  pais  \\\n",
       "0          ***973291**                     49                2024-09-04     0   \n",
       "1          ***317474**                     22                2000-03-31     0   \n",
       "2          ***317624**                     49                2000-03-31     0   \n",
       "3          ***845346**                     49                2007-11-06     0   \n",
       "4          ***703886**                     49                2007-05-04     0   \n",
       "\n",
       "  representante_legal nome_do_representante  \\\n",
       "0         ***000000**                  None   \n",
       "1         ***000000**                  None   \n",
       "2         ***000000**                  None   \n",
       "3         ***000000**                  None   \n",
       "4         ***000000**                  None   \n",
       "\n",
       "   qualificacao_do_representante_legal  faixa_etaria  \n",
       "0                                    0             6  \n",
       "1                                    0             9  \n",
       "2                                    0             6  \n",
       "3                                    0             9  \n",
       "4                                    0             6  "
      ]
     },
     "execution_count": 31,
     "metadata": {},
     "output_type": "execute_result"
    }
   ],
   "source": [
    "socios.na.fill(0).limit(5).toPandas()"
   ]
  },
  {
   "cell_type": "markdown",
   "metadata": {},
   "source": [
    "## Ordenando os Dados"
   ]
  },
  {
   "cell_type": "code",
   "execution_count": 32,
   "metadata": {},
   "outputs": [
    {
     "name": "stdout",
     "output_type": "stream",
     "text": [
      "+-----------------------------+------------+--------------+\n",
      "|nome_do_socio_ou_razao_social|faixa_etaria|ano_de_entrada|\n",
      "+-----------------------------+------------+--------------+\n",
      "|VITOR DE MATTOS LIMA         |4           |2025          |\n",
      "|LILIA SEBASTIANA DA SILVA    |5           |2025          |\n",
      "|FABIO MELO DA SILVA          |4           |2025          |\n",
      "|ALEXANDRE MICCHEL MANSANO    |5           |2025          |\n",
      "|ANDRE LUIS KUCZKA FUNCK      |4           |2025          |\n",
      "+-----------------------------+------------+--------------+\n",
      "only showing top 5 rows\n",
      "\n"
     ]
    }
   ],
   "source": [
    "socios\\\n",
    "    .select(\"nome_do_socio_ou_razao_social\", \n",
    "            \"faixa_etaria\", \n",
    "            f.year(\"data_de_entrada_sociedade\").alias(\"ano_de_entrada\"))\\\n",
    "    .orderBy(\"ano_de_entrada\", ascending=False)\\\n",
    "    .show(5, False)"
   ]
  },
  {
   "cell_type": "code",
   "execution_count": 33,
   "metadata": {},
   "outputs": [
    {
     "name": "stdout",
     "output_type": "stream",
     "text": [
      "+--------------------------------------------+------------+--------------+\n",
      "|nome_do_socio_ou_razao_social               |faixa_etaria|ano_de_entrada|\n",
      "+--------------------------------------------+------------+--------------+\n",
      "|DULCE CALMON DE BITTENCOURT PINTO DE ALMEIDA|9           |2025          |\n",
      "|CLEIDE CASTANHO PASQUOT                     |9           |2025          |\n",
      "|ROBERTO GREGORIO MONTAGNANA                 |9           |2025          |\n",
      "|THEREZINHA FICO MAURO                       |9           |2025          |\n",
      "|VERA YVONE CORADIN NOVACKI                  |9           |2025          |\n",
      "+--------------------------------------------+------------+--------------+\n",
      "only showing top 5 rows\n",
      "\n"
     ]
    }
   ],
   "source": [
    "socios\\\n",
    "    .select(\"nome_do_socio_ou_razao_social\", \n",
    "            \"faixa_etaria\", \n",
    "            f.year(\"data_de_entrada_sociedade\").alias(\"ano_de_entrada\"))\\\n",
    "    .orderBy([\"ano_de_entrada\",\"faixa_etaria\"], ascending=[False,False])\\\n",
    "    .show(5, False)"
   ]
  },
  {
   "cell_type": "markdown",
   "metadata": {},
   "source": [
    "## Filtrando os dados"
   ]
  },
  {
   "cell_type": "code",
   "execution_count": 34,
   "metadata": {},
   "outputs": [
    {
     "name": "stdout",
     "output_type": "stream",
     "text": [
      "+-----------+---------------------------------------------+-----------------+---------------------------+-------------------------+----------------+---------------------------+\n",
      "|cnpj_basico|razao_social_nome_empresarial                |natureza_juridica|qualificacao_do_responsavel|capital_social_da_empresa|porte_da_empresa|ente_federativo_responsavel|\n",
      "+-----------+---------------------------------------------+-----------------+---------------------------+-------------------------+----------------+---------------------------+\n",
      "|41273672   |ELDILEY FRANCISCO DA COSTA 07757485797       |2135             |50                         |50.0                     |1               |NULL                       |\n",
      "|41273842   |RAIMUNDO RAFAEL DA SILVA PINHEIRO 07402231356|2135             |50                         |50.0                     |1               |NULL                       |\n",
      "|41273857   |41.273.857 IDIVANIA DE SOUZA ROTA            |2135             |50                         |50.0                     |1               |NULL                       |\n",
      "|41274714   |41.274.714 BRUNA KACIANE MARTINS MOUTA       |2135             |50                         |50.0                     |1               |NULL                       |\n",
      "|41275038   |RAFAELLA TORRES DE AMORIM 44959883871        |2135             |50                         |50.0                     |1               |NULL                       |\n",
      "+-----------+---------------------------------------------+-----------------+---------------------------+-------------------------+----------------+---------------------------+\n",
      "only showing top 5 rows\n",
      "\n"
     ]
    }
   ],
   "source": [
    "empresas\\\n",
    "    .where(\"capital_social_da_empresa==50\")\\\n",
    "    .show(5,False)"
   ]
  },
  {
   "cell_type": "code",
   "execution_count": 35,
   "metadata": {},
   "outputs": [
    {
     "name": "stdout",
     "output_type": "stream",
     "text": [
      "+-----------+---------------------------------------------+-----------------+---------------------------+-------------------------+----------------+---------------------------+\n",
      "|cnpj_basico|razao_social_nome_empresarial                |natureza_juridica|qualificacao_do_responsavel|capital_social_da_empresa|porte_da_empresa|ente_federativo_responsavel|\n",
      "+-----------+---------------------------------------------+-----------------+---------------------------+-------------------------+----------------+---------------------------+\n",
      "|41273672   |ELDILEY FRANCISCO DA COSTA 07757485797       |2135             |50                         |50.0                     |1               |NULL                       |\n",
      "|41273842   |RAIMUNDO RAFAEL DA SILVA PINHEIRO 07402231356|2135             |50                         |50.0                     |1               |NULL                       |\n",
      "|41273857   |41.273.857 IDIVANIA DE SOUZA ROTA            |2135             |50                         |50.0                     |1               |NULL                       |\n",
      "|41274714   |41.274.714 BRUNA KACIANE MARTINS MOUTA       |2135             |50                         |50.0                     |1               |NULL                       |\n",
      "|41275038   |RAFAELLA TORRES DE AMORIM 44959883871        |2135             |50                         |50.0                     |1               |NULL                       |\n",
      "+-----------+---------------------------------------------+-----------------+---------------------------+-------------------------+----------------+---------------------------+\n",
      "only showing top 5 rows\n",
      "\n"
     ]
    }
   ],
   "source": [
    "empresas\\\n",
    "    .where(empresas.capital_social_da_empresa==50)\\\n",
    "    .show(5,False)"
   ]
  },
  {
   "cell_type": "code",
   "execution_count": 36,
   "metadata": {},
   "outputs": [
    {
     "data": {
      "text/html": [
       "<div>\n",
       "<style scoped>\n",
       "    .dataframe tbody tr th:only-of-type {\n",
       "        vertical-align: middle;\n",
       "    }\n",
       "\n",
       "    .dataframe tbody tr th {\n",
       "        vertical-align: top;\n",
       "    }\n",
       "\n",
       "    .dataframe thead th {\n",
       "        text-align: right;\n",
       "    }\n",
       "</style>\n",
       "<table border=\"1\" class=\"dataframe\">\n",
       "  <thead>\n",
       "    <tr style=\"text-align: right;\">\n",
       "      <th></th>\n",
       "      <th>nome_do_socio_ou_razao_social</th>\n",
       "    </tr>\n",
       "  </thead>\n",
       "  <tbody>\n",
       "    <tr>\n",
       "      <th>0</th>\n",
       "      <td>GUILHERME LUIZ AUGUSTO</td>\n",
       "    </tr>\n",
       "    <tr>\n",
       "      <th>1</th>\n",
       "      <td>GUILHERME FERNANDES DA COSTA AUGUSTO</td>\n",
       "    </tr>\n",
       "    <tr>\n",
       "      <th>2</th>\n",
       "      <td>GUILHERME FERNANDES DA COSTA AUGUSTO</td>\n",
       "    </tr>\n",
       "    <tr>\n",
       "      <th>3</th>\n",
       "      <td>GUILHERME ALVES AUGUSTO</td>\n",
       "    </tr>\n",
       "    <tr>\n",
       "      <th>4</th>\n",
       "      <td>GUILHERME MIGUEL AUGUSTO</td>\n",
       "    </tr>\n",
       "    <tr>\n",
       "      <th>5</th>\n",
       "      <td>GUILHERME CERCAL AUGUSTO</td>\n",
       "    </tr>\n",
       "    <tr>\n",
       "      <th>6</th>\n",
       "      <td>GUILHERME ANTONIO AUGUSTO</td>\n",
       "    </tr>\n",
       "    <tr>\n",
       "      <th>7</th>\n",
       "      <td>GUILHERME MARINHO AUGUSTO</td>\n",
       "    </tr>\n",
       "    <tr>\n",
       "      <th>8</th>\n",
       "      <td>GUILHERME SOUZA AUGUSTO</td>\n",
       "    </tr>\n",
       "    <tr>\n",
       "      <th>9</th>\n",
       "      <td>GUILHERME DE FIGUEIREDO AUGUSTO</td>\n",
       "    </tr>\n",
       "  </tbody>\n",
       "</table>\n",
       "</div>"
      ],
      "text/plain": [
       "          nome_do_socio_ou_razao_social\n",
       "0                GUILHERME LUIZ AUGUSTO\n",
       "1  GUILHERME FERNANDES DA COSTA AUGUSTO\n",
       "2  GUILHERME FERNANDES DA COSTA AUGUSTO\n",
       "3               GUILHERME ALVES AUGUSTO\n",
       "4              GUILHERME MIGUEL AUGUSTO\n",
       "5              GUILHERME CERCAL AUGUSTO\n",
       "6             GUILHERME ANTONIO AUGUSTO\n",
       "7             GUILHERME MARINHO AUGUSTO\n",
       "8               GUILHERME SOUZA AUGUSTO\n",
       "9       GUILHERME DE FIGUEIREDO AUGUSTO"
      ]
     },
     "execution_count": 36,
     "metadata": {},
     "output_type": "execute_result"
    }
   ],
   "source": [
    "socios\\\n",
    "    .select(\"nome_do_socio_ou_razao_social\")\\\n",
    "    .filter(socios.nome_do_socio_ou_razao_social.startswith(\"GUILHERME\"))\\\n",
    "    .filter(socios.nome_do_socio_ou_razao_social.endswith(\"AUGUSTO\"))\\\n",
    "    .limit(10)\\\n",
    "    .toPandas()"
   ]
  },
  {
   "cell_type": "markdown",
   "metadata": {},
   "source": [
    "## Método LIKE\n"
   ]
  },
  {
   "cell_type": "code",
   "execution_count": 37,
   "metadata": {},
   "outputs": [
    {
     "name": "stdout",
     "output_type": "stream",
     "text": [
      "+---------------------------------------+-----------------+----------------+-------------------------+\n",
      "|razao_social_nome_empresarial          |natureza_juridica|porte_da_empresa|capital_social_da_empresa|\n",
      "+---------------------------------------+-----------------+----------------+-------------------------+\n",
      "|HAYANE DE MELO ROLISOLA 51024696812    |2135             |1               |1000.0                   |\n",
      "|LUIS PIETRU ROLISOLA 50822126800       |2135             |1               |1500.0                   |\n",
      "|47.272.028 ROSANILDA DE MELO ROLISOLA  |2135             |1               |1000.0                   |\n",
      "|OCTAVIO ROLISOLA                       |2135             |1               |0.0                      |\n",
      "|54.309.488 HAYANE DE MELO ROLISOLA     |2135             |1               |6000.0                   |\n",
      "|JOAO LUIS ROLISOLA                     |2135             |5               |0.0                      |\n",
      "|55.798.132 ALINE DANIELI ROLISOLA BELLO|2135             |1               |30000.0                  |\n",
      "|MENDONCA & ROLISOLA LTDA               |2062             |1               |0.0                      |\n",
      "|MARIA DE LOURDES ROLISOLA BAR          |2135             |5               |0.0                      |\n",
      "+---------------------------------------+-----------------+----------------+-------------------------+\n",
      "\n"
     ]
    }
   ],
   "source": [
    "empresas\\\n",
    "    .select('razao_social_nome_empresarial', 'natureza_juridica', 'porte_da_empresa', 'capital_social_da_empresa')\\\n",
    "    .filter(f.upper(empresas['razao_social_nome_empresarial']).like('%ROLISOLA%'))\\\n",
    "    .show(15, False)\n",
    "    \n",
    "#Se tiver % nos dois lados, pega em qualquer lugar da string, se tiver apenas na %esquerda, pega se está no começo da string, se estiver no final% pega só se estiver no final da string\n"
   ]
  },
  {
   "cell_type": "markdown",
   "metadata": {},
   "source": [
    "## Agregando os dados"
   ]
  },
  {
   "cell_type": "code",
   "execution_count": 38,
   "metadata": {},
   "outputs": [
    {
     "name": "stdout",
     "output_type": "stream",
     "text": [
      "+--------------+------+\n",
      "|ano_de_entrada|count |\n",
      "+--------------+------+\n",
      "|2010          |220115|\n",
      "|2011          |230038|\n",
      "|2012          |219985|\n",
      "|2013          |226809|\n",
      "|2014          |216179|\n",
      "|2015          |212428|\n",
      "|2016          |210191|\n",
      "|2017          |224601|\n",
      "|2018          |245994|\n",
      "|2019          |278291|\n",
      "|2020          |293837|\n",
      "|2021          |405493|\n",
      "|2022          |450778|\n",
      "|2023          |524567|\n",
      "|2024          |623825|\n",
      "+--------------+------+\n",
      "only showing top 15 rows\n",
      "\n"
     ]
    }
   ],
   "source": [
    "socios\\\n",
    "    .select(f.year(\"data_de_entrada_sociedade\").alias(\"ano_de_entrada\"))\\\n",
    "    .where(\"ano_de_entrada >= 2010\")\\\n",
    "    .groupBy(\"ano_de_entrada\")\\\n",
    "    .count()\\\n",
    "    .orderBy(\"ano_de_entrada\", ascending=True)\\\n",
    "    .show(15,False)"
   ]
  },
  {
   "cell_type": "code",
   "execution_count": 39,
   "metadata": {},
   "outputs": [
    {
     "name": "stdout",
     "output_type": "stream",
     "text": [
      "+----------------+--------------------+----------+\n",
      "|porte_da_empresa|capital_social_medio|frequencia|\n",
      "+----------------+--------------------+----------+\n",
      "|            NULL|  0.8485639686684073|     15320|\n",
      "|               1|  1170630.9481629333|  16569299|\n",
      "|               3|2.1693376749592555E8|    635701|\n",
      "|               5|1.9407359801659305E7|   4411892|\n",
      "+----------------+--------------------+----------+\n",
      "\n"
     ]
    }
   ],
   "source": [
    "empresas\\\n",
    "    .select('cnpj_basico', 'porte_da_empresa', 'capital_social_da_empresa')\\\n",
    "    .groupBy('porte_da_empresa')\\\n",
    "    .agg(\n",
    "        f.avg(\"capital_social_da_empresa\").alias(\"capital_social_medio\"),\n",
    "        f.count(\"cnpj_basico\").alias(\"frequencia\")\n",
    "    )\\\n",
    "    .orderBy('porte_da_empresa', ascending=True)\\\n",
    "    .show()"
   ]
  },
  {
   "cell_type": "code",
   "execution_count": 40,
   "metadata": {},
   "outputs": [
    {
     "name": "stdout",
     "output_type": "stream",
     "text": [
      "+-------+-------------------------+\n",
      "|summary|capital_social_da_empresa|\n",
      "+-------+-------------------------+\n",
      "|  count|                 21632212|\n",
      "|   mean|     1.1229768023388263E7|\n",
      "| stddev|     2.6893557257361574E9|\n",
      "|    min|                      0.0|\n",
      "|    25%|                      1.0|\n",
      "|    50%|                   1500.0|\n",
      "|    75%|                  10000.0|\n",
      "|    max|         9.99999999999E11|\n",
      "+-------+-------------------------+\n",
      "\n"
     ]
    }
   ],
   "source": [
    "empresas\\\n",
    "    .select(\"capital_social_da_empresa\")\\\n",
    "    .summary()\\\n",
    "    .show()"
   ]
  },
  {
   "cell_type": "markdown",
   "metadata": {},
   "source": [
    "## Join Dataset"
   ]
  },
  {
   "cell_type": "code",
   "execution_count": 41,
   "metadata": {},
   "outputs": [],
   "source": [
    "empresas_join = estabelecimentos.join(empresas,\"cnpj_basico\", how=\"inner\")\n"
   ]
  },
  {
   "cell_type": "code",
   "execution_count": 42,
   "metadata": {},
   "outputs": [
    {
     "data": {
      "text/html": [
       "<div>\n",
       "<style scoped>\n",
       "    .dataframe tbody tr th:only-of-type {\n",
       "        vertical-align: middle;\n",
       "    }\n",
       "\n",
       "    .dataframe tbody tr th {\n",
       "        vertical-align: top;\n",
       "    }\n",
       "\n",
       "    .dataframe thead th {\n",
       "        text-align: right;\n",
       "    }\n",
       "</style>\n",
       "<table border=\"1\" class=\"dataframe\">\n",
       "  <thead>\n",
       "    <tr style=\"text-align: right;\">\n",
       "      <th></th>\n",
       "      <th>data_de_inicio</th>\n",
       "      <th>frequencia</th>\n",
       "    </tr>\n",
       "  </thead>\n",
       "  <tbody>\n",
       "    <tr>\n",
       "      <th>0</th>\n",
       "      <td>2010</td>\n",
       "      <td>3987</td>\n",
       "    </tr>\n",
       "    <tr>\n",
       "      <th>1</th>\n",
       "      <td>2011</td>\n",
       "      <td>15036</td>\n",
       "    </tr>\n",
       "    <tr>\n",
       "      <th>2</th>\n",
       "      <td>2012</td>\n",
       "      <td>4069</td>\n",
       "    </tr>\n",
       "    <tr>\n",
       "      <th>3</th>\n",
       "      <td>2013</td>\n",
       "      <td>3548</td>\n",
       "    </tr>\n",
       "    <tr>\n",
       "      <th>4</th>\n",
       "      <td>2014</td>\n",
       "      <td>3420</td>\n",
       "    </tr>\n",
       "    <tr>\n",
       "      <th>5</th>\n",
       "      <td>2015</td>\n",
       "      <td>3259</td>\n",
       "    </tr>\n",
       "    <tr>\n",
       "      <th>6</th>\n",
       "      <td>2016</td>\n",
       "      <td>2883</td>\n",
       "    </tr>\n",
       "    <tr>\n",
       "      <th>7</th>\n",
       "      <td>2017</td>\n",
       "      <td>3334</td>\n",
       "    </tr>\n",
       "    <tr>\n",
       "      <th>8</th>\n",
       "      <td>2018</td>\n",
       "      <td>5133</td>\n",
       "    </tr>\n",
       "    <tr>\n",
       "      <th>9</th>\n",
       "      <td>2019</td>\n",
       "      <td>5521</td>\n",
       "    </tr>\n",
       "    <tr>\n",
       "      <th>10</th>\n",
       "      <td>2020</td>\n",
       "      <td>6822</td>\n",
       "    </tr>\n",
       "    <tr>\n",
       "      <th>11</th>\n",
       "      <td>2021</td>\n",
       "      <td>1242862</td>\n",
       "    </tr>\n",
       "    <tr>\n",
       "      <th>12</th>\n",
       "      <td>2022</td>\n",
       "      <td>1555095</td>\n",
       "    </tr>\n",
       "    <tr>\n",
       "      <th>13</th>\n",
       "      <td>2023</td>\n",
       "      <td>1560802</td>\n",
       "    </tr>\n",
       "    <tr>\n",
       "      <th>14</th>\n",
       "      <td>2024</td>\n",
       "      <td>1904522</td>\n",
       "    </tr>\n",
       "    <tr>\n",
       "      <th>15</th>\n",
       "      <td>2025</td>\n",
       "      <td>522058</td>\n",
       "    </tr>\n",
       "  </tbody>\n",
       "</table>\n",
       "</div>"
      ],
      "text/plain": [
       "    data_de_inicio  frequencia\n",
       "0             2010        3987\n",
       "1             2011       15036\n",
       "2             2012        4069\n",
       "3             2013        3548\n",
       "4             2014        3420\n",
       "5             2015        3259\n",
       "6             2016        2883\n",
       "7             2017        3334\n",
       "8             2018        5133\n",
       "9             2019        5521\n",
       "10            2020        6822\n",
       "11            2021     1242862\n",
       "12            2022     1555095\n",
       "13            2023     1560802\n",
       "14            2024     1904522\n",
       "15            2025      522058"
      ]
     },
     "execution_count": 42,
     "metadata": {},
     "output_type": "execute_result"
    }
   ],
   "source": [
    "freq = empresas_join\\\n",
    "    .select(\n",
    "        'cnpj_basico', \n",
    "        f.year('data_de_inicio_atividade').alias('data_de_inicio')\n",
    "    )\\\n",
    "    .where('data_de_inicio >= 2010')\\\n",
    "    .groupBy('data_de_inicio')\\\n",
    "    .agg(f.count(\"cnpj_basico\").alias(\"frequencia\"))\\\n",
    "    .orderBy('data_de_inicio', ascending=True)\n",
    "    \n",
    "freq.toPandas()"
   ]
  },
  {
   "cell_type": "code",
   "execution_count": 43,
   "metadata": {},
   "outputs": [
    {
     "name": "stdout",
     "output_type": "stream",
     "text": [
      "+--------------+----------+\n",
      "|data_de_inicio|frequencia|\n",
      "+--------------+----------+\n",
      "|          2010|      3987|\n",
      "|          2011|     15036|\n",
      "|          2012|      4069|\n",
      "|          2013|      3548|\n",
      "|          2014|      3420|\n",
      "|          2015|      3259|\n",
      "|          2016|      2883|\n",
      "|          2017|      3334|\n",
      "|          2018|      5133|\n",
      "|          2019|      5521|\n",
      "|          2020|      6822|\n",
      "|          2021|   1242862|\n",
      "|          2022|   1555095|\n",
      "|          2023|   1560802|\n",
      "|          2024|   1904522|\n",
      "|          2025|    522058|\n",
      "|         Total|   6842351|\n",
      "+--------------+----------+\n",
      "\n"
     ]
    }
   ],
   "source": [
    "freq.union(\n",
    "    freq.select(\n",
    "        f.lit('Total').alias('data_de_inicio'),\n",
    "        f.sum(freq.frequencia).alias('frequencia')   \n",
    "    )\n",
    ").show()"
   ]
  },
  {
   "cell_type": "markdown",
   "metadata": {},
   "source": [
    "## SPARK SQL\n"
   ]
  },
  {
   "cell_type": "code",
   "execution_count": 44,
   "metadata": {},
   "outputs": [
    {
     "name": "stdout",
     "output_type": "stream",
     "text": [
      "+-----------+-----------------------------+-----------------+---------------------------+-------------------------+----------------+---------------------------+\n",
      "|cnpj_basico|razao_social_nome_empresarial|natureza_juridica|qualificacao_do_responsavel|capital_social_da_empresa|porte_da_empresa|ente_federativo_responsavel|\n",
      "+-----------+-----------------------------+-----------------+---------------------------+-------------------------+----------------+---------------------------+\n",
      "|   41273588|             STUDIO MVO2 LTDA|             2062|                         49|                  20000.0|               1|                       NULL|\n",
      "|   41273589|         IRENILDA OLIVEIRA...|             2135|                         50|                   5000.0|               1|                       NULL|\n",
      "|   41273590|         MARIA DAS MERCES ...|             4014|                         34|                      0.0|               5|                       NULL|\n",
      "|   41273591|         CASSIO APARECIDO ...|             2135|                         50|                   1000.0|               1|                       NULL|\n",
      "|   41273592|         41.273.592 HELIO ...|             2135|                         50|                  30000.0|               1|                       NULL|\n",
      "+-----------+-----------------------------+-----------------+---------------------------+-------------------------+----------------+---------------------------+\n",
      "only showing top 5 rows\n",
      "\n"
     ]
    }
   ],
   "source": [
    "empresas.createOrReplaceTempView(\"empresasView\")\n",
    "spark.sql(\"SELECT * FROM empresasView\").show(5)"
   ]
  },
  {
   "cell_type": "code",
   "execution_count": 45,
   "metadata": {},
   "outputs": [
    {
     "name": "stdout",
     "output_type": "stream",
     "text": [
      "+-----------+-----------------------------+-----------------+---------------------------+-------------------------+----------------+---------------------------+\n",
      "|cnpj_basico|razao_social_nome_empresarial|natureza_juridica|qualificacao_do_responsavel|capital_social_da_empresa|porte_da_empresa|ente_federativo_responsavel|\n",
      "+-----------+-----------------------------+-----------------+---------------------------+-------------------------+----------------+---------------------------+\n",
      "|   41273672|         ELDILEY FRANCISCO...|             2135|                         50|                     50.0|               1|                       NULL|\n",
      "|   41273842|         RAIMUNDO RAFAEL D...|             2135|                         50|                     50.0|               1|                       NULL|\n",
      "|   41273857|         41.273.857 IDIVAN...|             2135|                         50|                     50.0|               1|                       NULL|\n",
      "|   41274714|         41.274.714 BRUNA ...|             2135|                         50|                     50.0|               1|                       NULL|\n",
      "|   41275038|         RAFAELLA TORRES D...|             2135|                         50|                     50.0|               1|                       NULL|\n",
      "+-----------+-----------------------------+-----------------+---------------------------+-------------------------+----------------+---------------------------+\n",
      "only showing top 5 rows\n",
      "\n"
     ]
    }
   ],
   "source": [
    "spark\\\n",
    "    .sql(\"\"\"\n",
    "        SELECT * \n",
    "            FROM empresasView \n",
    "            WHERE capital_social_da_empresa = 50\n",
    "    \"\"\")\\\n",
    "    .show(5)"
   ]
  },
  {
   "cell_type": "code",
   "execution_count": 46,
   "metadata": {},
   "outputs": [
    {
     "name": "stdout",
     "output_type": "stream",
     "text": [
      "+----------------+--------------------+\n",
      "|porte_da_empresa|               Media|\n",
      "+----------------+--------------------+\n",
      "|            NULL|  0.8485639686684073|\n",
      "|               1|  1170630.9481629333|\n",
      "|               3|2.1693376749592555E8|\n",
      "|               5|1.9407359801659305E7|\n",
      "+----------------+--------------------+\n",
      "\n"
     ]
    }
   ],
   "source": [
    "spark\\\n",
    "    .sql(\"\"\" \n",
    "         SELECT porte_da_empresa, MEAN(capital_social_da_empresa) AS Media\n",
    "         FROM empresasView\n",
    "         GROUP BY porte_da_empresa\n",
    "         \"\"\")\\\n",
    "    .show(5)"
   ]
  },
  {
   "cell_type": "code",
   "execution_count": 47,
   "metadata": {},
   "outputs": [],
   "source": [
    "empresas_join.createOrReplaceTempView(\"empresasJoinView\")"
   ]
  },
  {
   "cell_type": "code",
   "execution_count": 48,
   "metadata": {},
   "outputs": [
    {
     "name": "stdout",
     "output_type": "stream",
     "text": [
      "+--------------+-----+\n",
      "|data_de_inicio|count|\n",
      "+--------------+-----+\n",
      "|          2010| 3987|\n",
      "|          2011|15036|\n",
      "|          2012| 4069|\n",
      "|          2013| 3548|\n",
      "|          2014| 3420|\n",
      "+--------------+-----+\n",
      "only showing top 5 rows\n",
      "\n"
     ]
    }
   ],
   "source": [
    "freq = spark\\\n",
    "    .sql(\"\"\"\n",
    "         SELECT YEAR(data_de_inicio_atividade) AS data_de_inicio, COUNT (cnpj_basico) AS count\n",
    "         FROM empresasJoinView\n",
    "         WHERE YEAR(data_de_inicio_atividade) >= 2010\n",
    "         GROUP BY data_de_inicio\n",
    "         ORDER BY data_de_inicio\n",
    "         \"\"\")\n",
    "    \n",
    "freq.show(5)"
   ]
  },
  {
   "cell_type": "code",
   "execution_count": 49,
   "metadata": {},
   "outputs": [],
   "source": [
    "freq.createOrReplaceTempView(\"freqView\")"
   ]
  },
  {
   "cell_type": "code",
   "execution_count": 50,
   "metadata": {},
   "outputs": [
    {
     "name": "stdout",
     "output_type": "stream",
     "text": [
      "+--------------+-------+\n",
      "|data_de_inicio|  count|\n",
      "+--------------+-------+\n",
      "|          2010|   3987|\n",
      "|          2011|  15036|\n",
      "|          2012|   4069|\n",
      "|          2013|   3548|\n",
      "|          2014|   3420|\n",
      "|          2015|   3259|\n",
      "|          2016|   2883|\n",
      "|          2017|   3334|\n",
      "|          2018|   5133|\n",
      "|          2019|   5521|\n",
      "|          2020|   6822|\n",
      "|          2021|1242862|\n",
      "|          2022|1555095|\n",
      "|          2023|1560802|\n",
      "|          2024|1904522|\n",
      "|          2025| 522058|\n",
      "|         Total|6842351|\n",
      "+--------------+-------+\n",
      "\n"
     ]
    }
   ],
   "source": [
    "spark\\\n",
    "    .sql(\"\"\"\n",
    "        SELECT *\n",
    "            FROM freqView\n",
    "        UNION ALL\n",
    "        SELECT 'Total' AS data_de_inicio, SUM(count) AS count\n",
    "            FROM freqView\n",
    "         \"\"\")\\\n",
    "    .show()"
   ]
  },
  {
   "cell_type": "markdown",
   "metadata": {},
   "source": [
    "## Salvar e Ler CSV\n"
   ]
  },
  {
   "cell_type": "code",
   "execution_count": 51,
   "metadata": {},
   "outputs": [],
   "source": [
    "\n",
    "empresas.write.csv(\n",
    "    path='./empresas0/csv',\n",
    "    mode='overwrite',\n",
    "    sep=';',\n",
    "    header=True\n",
    ")"
   ]
  },
  {
   "cell_type": "code",
   "execution_count": 52,
   "metadata": {},
   "outputs": [],
   "source": [
    "empresas2 = spark.read.csv(\n",
    "    './empresas0/csv',\n",
    "    sep=';',\n",
    "    inferSchema=True,\n",
    "    header=True\n",
    ")\n"
   ]
  },
  {
   "cell_type": "code",
   "execution_count": 53,
   "metadata": {},
   "outputs": [
    {
     "name": "stdout",
     "output_type": "stream",
     "text": [
      "+-----------+-----------------------------+-----------------+---------------------------+-------------------------+----------------+---------------------------+\n",
      "|cnpj_basico|razao_social_nome_empresarial|natureza_juridica|qualificacao_do_responsavel|capital_social_da_empresa|porte_da_empresa|ente_federativo_responsavel|\n",
      "+-----------+-----------------------------+-----------------+---------------------------+-------------------------+----------------+---------------------------+\n",
      "|   55145960|         55.145.960 EDER B...|             2135|                         50|                      1.0|               1|                       NULL|\n",
      "|   55145961|         55.145.961 JEFFER...|             2135|                         50|                  20000.0|               1|                       NULL|\n",
      "|   55145962|         55.145.962 SERGIO...|             2135|                         50|                  15850.0|               1|                       NULL|\n",
      "|   55145963|         55.145.963 JOSE C...|             2135|                         50|                   5000.0|               1|                       NULL|\n",
      "|   55145964|         55.145.964 DIEGO ...|             2135|                         50|                     10.0|               1|                       NULL|\n",
      "+-----------+-----------------------------+-----------------+---------------------------+-------------------------+----------------+---------------------------+\n",
      "only showing top 5 rows\n",
      "\n"
     ]
    }
   ],
   "source": [
    "empresas2.show(5)"
   ]
  },
  {
   "cell_type": "markdown",
   "metadata": {},
   "source": [
    "## Salvar e Ler Parquet"
   ]
  },
  {
   "cell_type": "code",
   "execution_count": 54,
   "metadata": {},
   "outputs": [],
   "source": [
    "empresas.write.parquet(\n",
    "    path='./empresas0/parquet',\n",
    "    mode='overwrite'\n",
    ")"
   ]
  },
  {
   "cell_type": "code",
   "execution_count": 55,
   "metadata": {},
   "outputs": [],
   "source": [
    "empresas_parquet = spark.read.parquet(\n",
    "    './empresas0/parquet'\n",
    ")"
   ]
  },
  {
   "cell_type": "code",
   "execution_count": 56,
   "metadata": {},
   "outputs": [
    {
     "name": "stdout",
     "output_type": "stream",
     "text": [
      "+-----------+-----------------------------+-----------------+---------------------------+-------------------------+----------------+---------------------------+\n",
      "|cnpj_basico|razao_social_nome_empresarial|natureza_juridica|qualificacao_do_responsavel|capital_social_da_empresa|porte_da_empresa|ente_federativo_responsavel|\n",
      "+-----------+-----------------------------+-----------------+---------------------------+-------------------------+----------------+---------------------------+\n",
      "|   43004807|         GEORGIA MAVEL DE ...|             2135|                         50|                   1000.0|               1|                       NULL|\n",
      "|   43004808|         GUTI ARTEFATOS DE...|             2062|                         49|                  50000.0|               1|                       NULL|\n",
      "|   43004809|         43.004.809 SHEILA...|             2135|                         50|                   2000.0|               1|                       NULL|\n",
      "|   43004810|         J L ENGENHARIA  E...|             2062|                         49|                 500000.0|               1|                       NULL|\n",
      "|   43004811|         COMERCIO DE ARTIG...|             2062|                         49|                      0.0|               5|                       NULL|\n",
      "+-----------+-----------------------------+-----------------+---------------------------+-------------------------+----------------+---------------------------+\n",
      "only showing top 5 rows\n",
      "\n"
     ]
    }
   ],
   "source": [
    "empresas_parquet.show(5)"
   ]
  },
  {
   "cell_type": "markdown",
   "metadata": {},
   "source": [
    "## Particionamento dos Dados"
   ]
  },
  {
   "cell_type": "code",
   "execution_count": null,
   "metadata": {},
   "outputs": [],
   "source": [
    "empresas.coalesce(1).write.csv(\n",
    "    path='./empresas0/csv_unico',\n",
    "    mode='overwrite',\n",
    "    sep=';',\n",
    "    header=True\n",
    ")"
   ]
  },
  {
   "cell_type": "code",
   "execution_count": null,
   "metadata": {},
   "outputs": [],
   "source": [
    "empresas.write.parquet(\n",
    "    path='./empresas0/parquet-partitionBy',\n",
    "    mode='overwrite',\n",
    "        partitionBy='porte_da_empresa'\n",
    ")\n"
   ]
  }
 ],
 "metadata": {
  "kernelspec": {
   "display_name": "Python 3",
   "language": "python",
   "name": "python3"
  },
  "language_info": {
   "codemirror_mode": {
    "name": "ipython",
    "version": 3
   },
   "file_extension": ".py",
   "mimetype": "text/x-python",
   "name": "python",
   "nbconvert_exporter": "python",
   "pygments_lexer": "ipython3",
   "version": "3.11.9"
  }
 },
 "nbformat": 4,
 "nbformat_minor": 2
}
